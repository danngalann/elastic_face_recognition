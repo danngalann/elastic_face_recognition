{
 "cells": [
  {
   "cell_type": "markdown",
   "id": "57275e69",
   "metadata": {},
   "source": [
    "# Utils"
   ]
  },
  {
   "cell_type": "markdown",
   "id": "bc2260a1",
   "metadata": {},
   "source": [
    "## Create vectors from images"
   ]
  },
  {
   "cell_type": "code",
   "execution_count": 1,
   "id": "973eb0a6",
   "metadata": {},
   "outputs": [],
   "source": [
    "import face_recognition"
   ]
  },
  {
   "cell_type": "code",
   "execution_count": 6,
   "id": "66a68255",
   "metadata": {},
   "outputs": [],
   "source": [
    "def get_encodings(image):\n",
    "    image = face_recognition.load_image_file(image) \n",
    "    # detect the faces from the images  \n",
    "    face_locations = face_recognition.face_locations(image) \n",
    "    # encode the 128-dimension face encoding for each face in the image \n",
    "    face_encodings = face_recognition.face_encodings(image, face_locations) \n",
    "    # Display the 128-dimension for each face detected \n",
    "    \n",
    "    return face_encodings"
   ]
  },
  {
   "cell_type": "markdown",
   "id": "18f84675",
   "metadata": {},
   "source": [
    "## Communicate with elasticsearch"
   ]
  },
  {
   "cell_type": "code",
   "execution_count": 11,
   "id": "aa06f8f3",
   "metadata": {},
   "outputs": [],
   "source": [
    "import requests"
   ]
  },
  {
   "cell_type": "markdown",
   "id": "a1873769",
   "metadata": {},
   "source": [
    "### Create index"
   ]
  },
  {
   "cell_type": "code",
   "execution_count": 22,
   "id": "9ebcc043",
   "metadata": {},
   "outputs": [],
   "source": [
    "# Create index\n",
    "data = { \n",
    "  \"mappings\" : { \n",
    "      \"properties\" : { \n",
    "        \"name\" : { \n",
    "          \"type\" : \"keyword\" \n",
    "        }, \n",
    "        \"encoding\" : { \n",
    "          \"type\" : \"dense_vector\", \n",
    "          \"dims\" : 128 \n",
    "        } \n",
    "      } \n",
    "    } \n",
    "}\n",
    "res = requests.put('http://localhost:9200/faces', json=data)"
   ]
  },
  {
   "cell_type": "markdown",
   "id": "9f146102",
   "metadata": {},
   "source": [
    "### A way to add encodings"
   ]
  },
  {
   "cell_type": "code",
   "execution_count": 14,
   "id": "8dd6014f",
   "metadata": {},
   "outputs": [],
   "source": [
    "def index_encoding(encoding, person):\n",
    "    data = {'name': person, 'encoding': encoding}\n",
    "    res = requests.post('http://localhost:9200/faces/_doc', json=data)"
   ]
  },
  {
   "cell_type": "markdown",
   "id": "9049ad19",
   "metadata": {},
   "source": [
    "# Load dataset\n",
    "Iterate over each picture in `dataset` and store the first found face to elastic with the name matching the file name"
   ]
  },
  {
   "cell_type": "code",
   "execution_count": 18,
   "id": "13a22361",
   "metadata": {},
   "outputs": [],
   "source": [
    "import os"
   ]
  },
  {
   "cell_type": "code",
   "execution_count": 21,
   "id": "8ac4524b",
   "metadata": {},
   "outputs": [],
   "source": [
    "for face in os.listdir('dataset'):\n",
    "    encoding = get_encodings(f'dataset/{face}')[0]\n",
    "    index_encoding(encoding.tolist(), face.split('.')[0])"
   ]
  }
 ],
 "metadata": {
  "kernelspec": {
   "display_name": "face-recognition",
   "language": "python",
   "name": "face-recognition"
  },
  "language_info": {
   "codemirror_mode": {
    "name": "ipython",
    "version": 3
   },
   "file_extension": ".py",
   "mimetype": "text/x-python",
   "name": "python",
   "nbconvert_exporter": "python",
   "pygments_lexer": "ipython3",
   "version": "3.10.4"
  }
 },
 "nbformat": 4,
 "nbformat_minor": 5
}
