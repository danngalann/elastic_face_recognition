{
 "cells": [
  {
   "cell_type": "markdown",
   "id": "ec9bb8c2",
   "metadata": {},
   "source": [
    "# Utils"
   ]
  },
  {
   "cell_type": "markdown",
   "id": "e366443e",
   "metadata": {},
   "source": [
    "## Create vectors from images"
   ]
  },
  {
   "cell_type": "code",
   "execution_count": 143,
   "id": "0d03d516",
   "metadata": {},
   "outputs": [],
   "source": [
    "import face_recognition"
   ]
  },
  {
   "cell_type": "code",
   "execution_count": 144,
   "id": "2ce3084f",
   "metadata": {},
   "outputs": [],
   "source": [
    "IMAGE = 'target.jpg'"
   ]
  },
  {
   "cell_type": "code",
   "execution_count": 145,
   "id": "db93d29b",
   "metadata": {},
   "outputs": [],
   "source": [
    "def get_encodings(image):\n",
    "    image = face_recognition.load_image_file(image) \n",
    "    # detect the faces from the images  \n",
    "    face_locations = face_recognition.face_locations(image) \n",
    "    # encode the 128-dimension face encoding for each face in the image \n",
    "    face_encodings = face_recognition.face_encodings(image, face_locations) \n",
    "    # Display the 128-dimension for each face detected \n",
    "    \n",
    "    return face_encodings"
   ]
  },
  {
   "cell_type": "markdown",
   "id": "2fd84470",
   "metadata": {},
   "source": [
    "## Communicate with elasticsearch"
   ]
  },
  {
   "cell_type": "code",
   "execution_count": 146,
   "id": "14144123",
   "metadata": {},
   "outputs": [],
   "source": [
    "import requests"
   ]
  },
  {
   "cell_type": "markdown",
   "id": "1d216875",
   "metadata": {},
   "source": [
    "### Create index"
   ]
  },
  {
   "cell_type": "code",
   "execution_count": 147,
   "id": "6fb60028",
   "metadata": {},
   "outputs": [],
   "source": [
    "# Create index\n",
    "data = { \n",
    "  \"mappings\" : { \n",
    "      \"properties\" : { \n",
    "        \"name\" : { \n",
    "          \"type\" : \"keyword\" \n",
    "        }, \n",
    "        \"encoding\" : { \n",
    "          \"type\" : \"dense_vector\", \n",
    "          \"dims\" : 128 \n",
    "        } \n",
    "      } \n",
    "    } \n",
    "}\n",
    "res = requests.put('http://localhost:9200/faces', json=data)"
   ]
  },
  {
   "cell_type": "markdown",
   "id": "74608216",
   "metadata": {},
   "source": [
    "### A way to add encodings"
   ]
  },
  {
   "cell_type": "code",
   "execution_count": 148,
   "id": "d3062268",
   "metadata": {},
   "outputs": [],
   "source": [
    "def index_encoding(encoding, person):\n",
    "    data = {'name': person, 'encoding': encoding}\n",
    "    res = requests.post('http://localhost:9200/faces/_doc', json=data)"
   ]
  },
  {
   "cell_type": "markdown",
   "id": "67b06935",
   "metadata": {},
   "source": [
    "# Load dataset\n",
    "Iterate over each picture in `dataset` and store the first found face to elastic with the name matching the file name"
   ]
  },
  {
   "cell_type": "code",
   "execution_count": 149,
   "id": "f3fb544a",
   "metadata": {},
   "outputs": [],
   "source": [
    "import os"
   ]
  },
  {
   "cell_type": "code",
   "execution_count": 150,
   "id": "670f1168",
   "metadata": {},
   "outputs": [],
   "source": [
    "for face in os.listdir('dataset'):\n",
    "    encoding = get_encodings(f'dataset/{face}')[0]\n",
    "    index_encoding(encoding.tolist(), face.split('.')[0])"
   ]
  },
  {
   "cell_type": "markdown",
   "id": "12e435ea",
   "metadata": {},
   "source": [
    "## Recognition"
   ]
  },
  {
   "cell_type": "code",
   "execution_count": 151,
   "id": "e3769b09",
   "metadata": {},
   "outputs": [],
   "source": [
    "from elasticsearch import Elasticsearch, logger, logging\n",
    "\n",
    "es = Elasticsearch()\n",
    "\n",
    "es_logger = logger\n",
    "es_logger.setLevel(logging.ERROR)"
   ]
  },
  {
   "cell_type": "code",
   "execution_count": 152,
   "id": "062ce0ae",
   "metadata": {},
   "outputs": [],
   "source": [
    "def recognize(image):\n",
    "    encodings = get_encodings(image)\n",
    "\n",
    "    for encoding in encodings:\n",
    "        response = es.search(\n",
    "            index=\"faces\",\n",
    "            body={\n",
    "                \"size\": 1,\n",
    "                \"_source\": \"name\",\n",
    "                \"query\": {\n",
    "                    \"script_score\": {\n",
    "                        \"query\": {\"match_all\": {}},\n",
    "                        \"script\": {\n",
    "                            \"source\": \"cosineSimilarity(params.encoding, 'encoding')\",\n",
    "                            \"params\": {\"encoding\": encoding.tolist()},\n",
    "                        },\n",
    "                    }\n",
    "                },\n",
    "            },\n",
    "        )\n",
    "\n",
    "        for hit in response[\"hits\"][\"hits\"]:\n",
    "            if float(hit[\"_score\"]) > 0.93:\n",
    "                person = hit[\"_source\"][\"name\"]\n",
    "                score = hit[\"_score\"]\n",
    "                print(f\"Found {person} ({score})\")\n",
    "            else:\n",
    "                print(\"Found unknown face\")\n"
   ]
  },
  {
   "cell_type": "code",
   "execution_count": 154,
   "id": "26226b22",
   "metadata": {
    "scrolled": true
   },
   "outputs": [
    {
     "name": "stdout",
     "output_type": "stream",
     "text": [
      "Found me (0.9392916)\n"
     ]
    }
   ],
   "source": [
    "TARGET = 'target.jpg'\n",
    "recognize(TARGET)"
   ]
  }
 ],
 "metadata": {
  "kernelspec": {
   "display_name": "face-recognition",
   "language": "python",
   "name": "face-recognition"
  },
  "language_info": {
   "codemirror_mode": {
    "name": "ipython",
    "version": 3
   },
   "file_extension": ".py",
   "mimetype": "text/x-python",
   "name": "python",
   "nbconvert_exporter": "python",
   "pygments_lexer": "ipython3",
   "version": "3.10.4"
  }
 },
 "nbformat": 4,
 "nbformat_minor": 5
}
